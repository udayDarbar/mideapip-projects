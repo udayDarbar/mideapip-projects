{
  "nbformat": 4,
  "nbformat_minor": 0,
  "metadata": {
    "colab": {
      "provenance": []
    },
    "kernelspec": {
      "name": "python3",
      "display_name": "Python 3"
    },
    "language_info": {
      "name": "python"
    }
  },
  "cells": [
    {
      "cell_type": "code",
      "source": [
        "import pandas as pd\n",
        "from sklearn.model_selection import train_test_split\n",
        "from sklearn.preprocessing import LabelEncoder, StandardScaler\n",
        "from sklearn.ensemble import RandomForestClassifier, GradientBoostingClassifier\n",
        "from sklearn.linear_model import LogisticRegression\n",
        "from sklearn.neighbors import KNeighborsClassifier\n",
        "from sklearn.svm import SVC\n",
        "from sklearn.tree import DecisionTreeClassifier\n",
        "from sklearn.metrics import classification_report, accuracy_score\n",
        "import numpy as np\n"
      ],
      "metadata": {
        "id": "qn84diDVqB_X"
      },
      "execution_count": null,
      "outputs": []
    },
    {
      "cell_type": "code",
      "execution_count": null,
      "metadata": {
        "id": "dxNPn8xipcV5"
      },
      "outputs": [],
      "source": [
        "\n",
        "file_path = \"/content/posture_data.csv\"\n",
        "data = pd.read_csv(file_path)\n",
        "\n",
        "\n",
        "X = data.iloc[:, :-1]\n",
        "y = data.iloc[:, -1]\n",
        "\n",
        "\n",
        "label_encoder = LabelEncoder()\n",
        "y_encoded = label_encoder.fit_transform(y)\n",
        "\n",
        "\n",
        "\n",
        "X_train, X_test, y_train, y_test = train_test_split(X, y_encoded, test_size=0.3)\n",
        "\n",
        "\n",
        "scaler = StandardScaler()\n",
        "X_train = scaler.fit_transform(X_train)\n",
        "X_test = scaler.transform(X_test)\n"
      ]
    },
    {
      "cell_type": "code",
      "source": [
        "classifiers = {\n",
        "    \"Random Forest\": RandomForestClassifier(),\n",
        "    \"Logistic Regression\": LogisticRegression(max_iter=1000),\n",
        "    \"K-Nearest Neighbors\": KNeighborsClassifier(n_neighbors=5),\n",
        "    \"Support Vector Classifier (SVC)\": SVC(kernel='linear'),\n",
        "    \"Decision Tree\": DecisionTreeClassifier(),\n",
        "    \"Gradient Boosting\": GradientBoostingClassifier(),\n",
        "}\n"
      ],
      "metadata": {
        "id": "OQaFJUeWqScP"
      },
      "execution_count": null,
      "outputs": []
    },
    {
      "cell_type": "code",
      "source": [
        "results = {}\n",
        "for name, model in classifiers.items():\n",
        "    print(f\"\\nModel: {name}\")\n",
        "    model.fit(X_train, y_train)\n",
        "    y_pred = model.predict(X_test)\n",
        "    accuracy = accuracy_score(y_test, y_pred)\n",
        "    results[name] = accuracy\n",
        "    print(f\"Accuracy: {accuracy:.2f}\")\n",
        "    print(\"Classification Report:\\n\", classification_report(y_test, y_pred, target_names=label_encoder.classes_))\n"
      ],
      "metadata": {
        "colab": {
          "base_uri": "https://localhost:8080/"
        },
        "collapsed": true,
        "id": "cuYR5FYwqXYr",
        "outputId": "69b9b992-6b10-41e4-99e9-60503a67c4a1"
      },
      "execution_count": null,
      "outputs": [
        {
          "output_type": "stream",
          "name": "stdout",
          "text": [
            "\n",
            "Model: Random Forest\n",
            "Accuracy: 1.00\n",
            "Classification Report:\n",
            "               precision    recall  f1-score   support\n",
            "\n",
            "     Sitting       1.00      1.00      1.00       149\n",
            "    Standing       1.00      1.00      1.00       145\n",
            "\n",
            "    accuracy                           1.00       294\n",
            "   macro avg       1.00      1.00      1.00       294\n",
            "weighted avg       1.00      1.00      1.00       294\n",
            "\n",
            "\n",
            "Model: Logistic Regression\n",
            "Accuracy: 1.00\n",
            "Classification Report:\n",
            "               precision    recall  f1-score   support\n",
            "\n",
            "     Sitting       1.00      1.00      1.00       149\n",
            "    Standing       1.00      1.00      1.00       145\n",
            "\n",
            "    accuracy                           1.00       294\n",
            "   macro avg       1.00      1.00      1.00       294\n",
            "weighted avg       1.00      1.00      1.00       294\n",
            "\n",
            "\n",
            "Model: K-Nearest Neighbors\n",
            "Accuracy: 1.00\n",
            "Classification Report:\n",
            "               precision    recall  f1-score   support\n",
            "\n",
            "     Sitting       1.00      1.00      1.00       149\n",
            "    Standing       1.00      1.00      1.00       145\n",
            "\n",
            "    accuracy                           1.00       294\n",
            "   macro avg       1.00      1.00      1.00       294\n",
            "weighted avg       1.00      1.00      1.00       294\n",
            "\n",
            "\n",
            "Model: Support Vector Classifier (SVC)\n",
            "Accuracy: 1.00\n",
            "Classification Report:\n",
            "               precision    recall  f1-score   support\n",
            "\n",
            "     Sitting       1.00      1.00      1.00       149\n",
            "    Standing       1.00      1.00      1.00       145\n",
            "\n",
            "    accuracy                           1.00       294\n",
            "   macro avg       1.00      1.00      1.00       294\n",
            "weighted avg       1.00      1.00      1.00       294\n",
            "\n",
            "\n",
            "Model: Decision Tree\n",
            "Accuracy: 0.99\n",
            "Classification Report:\n",
            "               precision    recall  f1-score   support\n",
            "\n",
            "     Sitting       0.99      1.00      0.99       149\n",
            "    Standing       1.00      0.99      0.99       145\n",
            "\n",
            "    accuracy                           0.99       294\n",
            "   macro avg       0.99      0.99      0.99       294\n",
            "weighted avg       0.99      0.99      0.99       294\n",
            "\n",
            "\n",
            "Model: Gradient Boosting\n",
            "Accuracy: 0.99\n",
            "Classification Report:\n",
            "               precision    recall  f1-score   support\n",
            "\n",
            "     Sitting       0.99      1.00      0.99       149\n",
            "    Standing       1.00      0.99      0.99       145\n",
            "\n",
            "    accuracy                           0.99       294\n",
            "   macro avg       0.99      0.99      0.99       294\n",
            "weighted avg       0.99      0.99      0.99       294\n",
            "\n"
          ]
        }
      ]
    },
    {
      "cell_type": "code",
      "source": [
        "print(\"\\nFinal Model Comparison:\")\n",
        "for name, accuracy in results.items():\n",
        "    print(f\"{name}: {accuracy:.2f}\")"
      ],
      "metadata": {
        "colab": {
          "base_uri": "https://localhost:8080/"
        },
        "id": "MHUaYgmrqYC0",
        "outputId": "ccf70855-ea08-4324-f9da-ea4f8bbe1c11"
      },
      "execution_count": null,
      "outputs": [
        {
          "output_type": "stream",
          "name": "stdout",
          "text": [
            "\n",
            "Final Model Comparison:\n",
            "Random Forest: 1.00\n",
            "Logistic Regression: 1.00\n",
            "K-Nearest Neighbors: 1.00\n",
            "Support Vector Classifier (SVC): 1.00\n",
            "Decision Tree: 0.99\n",
            "Gradient Boosting: 0.99\n"
          ]
        }
      ]
    },
    {
      "cell_type": "code",
      "source": [
        "import joblib\n",
        "from google.colab import files\n",
        "\n",
        "# Save models\n",
        "def save_models(classifiers, file_names):\n",
        "    for name, model in classifiers.items():\n",
        "        file_name = f\"{file_names[name]}.joblib\"\n",
        "        joblib.dump(model, file_name)\n",
        "        print(f\"Model '{name}' saved as {file_name}\")\n",
        "\n",
        "# Define classifiers (from the training code)\n",
        "classifiers = {\n",
        "    \"Random Forest\": RandomForestClassifier(random_state=42),\n",
        "    \"Logistic Regression\": LogisticRegression(max_iter=1000, random_state=42),\n",
        "    \"K-Nearest Neighbors\": KNeighborsClassifier(n_neighbors=5),\n",
        "    \"Support Vector Classifier (SVC)\": SVC(kernel='linear', random_state=42),\n",
        "    \"Decision Tree\": DecisionTreeClassifier(random_state=42),\n",
        "    \"Gradient Boosting\": GradientBoostingClassifier(random_state=42),\n",
        "}\n",
        "\n",
        "# Train classifiers (add this if not done already)\n",
        "for name, model in classifiers.items():\n",
        "    model.fit(X_train, y_train)  # Assuming `X_train` and `y_train` are already defined\n",
        "\n",
        "# Define filenames for each model\n",
        "file_names = {\n",
        "    \"Random Forest\": \"random_forest_model\",\n",
        "    \"Logistic Regression\": \"logistic_regression_model\",\n",
        "    \"K-Nearest Neighbors\": \"knn_model\",\n",
        "    \"Support Vector Classifier (SVC)\": \"svc_model\",\n",
        "    \"Decision Tree\": \"decision_tree_model\",\n",
        "    \"Gradient Boosting\": \"gradient_boosting_model\",\n",
        "}\n",
        "\n",
        "# Save all models\n",
        "save_models(classifiers, file_names)\n",
        "\n",
        "# Download saved models\n",
        "#for name, file_name in file_names.items():\n",
        "#    files.download(f\"{file_name}.joblib\")\n"
      ],
      "metadata": {
        "colab": {
          "base_uri": "https://localhost:8080/"
        },
        "id": "W_A_ViZx0eE5",
        "outputId": "8e9c059c-d05c-4fc5-efa1-c8fe0bc81d09"
      },
      "execution_count": null,
      "outputs": [
        {
          "output_type": "stream",
          "name": "stdout",
          "text": [
            "Model 'Random Forest' saved as random_forest_model.joblib\n",
            "Model 'Logistic Regression' saved as logistic_regression_model.joblib\n",
            "Model 'K-Nearest Neighbors' saved as knn_model.joblib\n",
            "Model 'Support Vector Classifier (SVC)' saved as svc_model.joblib\n",
            "Model 'Decision Tree' saved as decision_tree_model.joblib\n",
            "Model 'Gradient Boosting' saved as gradient_boosting_model.joblib\n"
          ]
        }
      ]
    }
  ]
}